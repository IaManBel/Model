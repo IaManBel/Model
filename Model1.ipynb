{
 "cells": [
  {
   "cell_type": "code",
   "execution_count": 74,
   "id": "7866e7b7",
   "metadata": {},
   "outputs": [],
   "source": [
    "import os\n",
    "import pandas as pd\n",
    "import tensorflow as tf\n",
    "from tensorflow import keras"
   ]
  },
  {
   "cell_type": "code",
   "execution_count": 75,
   "id": "07d965c4-c583-483c-895a-87ee87717629",
   "metadata": {},
   "outputs": [],
   "source": [
    "directory = \"/Users/manuelbeltran/Documents/EDUCACION/JAVERIANA/SEMESTRE_3/pgrado\""
   ]
  },
  {
   "cell_type": "code",
   "execution_count": 76,
   "id": "32d6f771-b3f5-43f8-90e3-1d3e2d9b6eb0",
   "metadata": {},
   "outputs": [],
   "source": [
    "os.chdir('/Users/manuelbeltran/Documents/EDUCACION/JAVERIANA/SEMESTRE_3/pgrado')"
   ]
  },
  {
   "cell_type": "code",
   "execution_count": 77,
   "id": "1984e28f-be04-4030-bf90-27eddbcff781",
   "metadata": {},
   "outputs": [
    {
     "name": "stdout",
     "output_type": "stream",
     "text": [
      "/Users/manuelbeltran/Documents/EDUCACION/JAVERIANA/SEMESTRE_3/pgrado\n"
     ]
    }
   ],
   "source": [
    "print(directory)"
   ]
  },
  {
   "cell_type": "code",
   "execution_count": 78,
   "id": "8f5a89af-8b06-43ad-bc3f-3cdcceb79090",
   "metadata": {},
   "outputs": [],
   "source": [
    "model = tf.keras.models.load_model('Newsaved_model290923')\n",
    "#model = tf.keras.models.load_model('saved_model')"
   ]
  },
  {
   "cell_type": "code",
   "execution_count": 79,
   "id": "aaee2e55-8626-422f-b2e3-3a6bd802234c",
   "metadata": {},
   "outputs": [
    {
     "name": "stdout",
     "output_type": "stream",
     "text": [
      "Model: \"sequential_1\"\n",
      "_________________________________________________________________\n",
      " Layer (type)                Output Shape              Param #   \n",
      "=================================================================\n",
      " dense_3 (Dense)             (None, 1187, 1476, 64)    256       \n",
      "                                                                 \n",
      " max_pooling2d_1 (MaxPooling  (None, 593, 738, 64)     0         \n",
      " 2D)                                                             \n",
      "                                                                 \n",
      " dense_4 (Dense)             (None, 593, 738, 32)      2080      \n",
      "                                                                 \n",
      " flatten_1 (Flatten)         (None, 14004288)          0         \n",
      "                                                                 \n",
      " dense_5 (Dense)             (None, 3)                 42012867  \n",
      "                                                                 \n",
      "=================================================================\n",
      "Total params: 42,015,203\n",
      "Trainable params: 42,015,203\n",
      "Non-trainable params: 0\n",
      "_________________________________________________________________\n"
     ]
    }
   ],
   "source": [
    "model.summary()"
   ]
  },
  {
   "cell_type": "code",
   "execution_count": 80,
   "id": "fc96c5a3-6fd7-46ce-838b-3540fd9a52e4",
   "metadata": {},
   "outputs": [],
   "source": [
    "directory = \"/Users/manuelbeltran/Documents/EDUCACION/JAVERIANA/SEMESTRE_3/pgrado/\""
   ]
  },
  {
   "cell_type": "code",
   "execution_count": 81,
   "id": "330d67fd-9e53-4d52-a08e-6f0fec6f06aa",
   "metadata": {},
   "outputs": [],
   "source": [
    "file_path = \"Predictions.csv\""
   ]
  },
  {
   "cell_type": "code",
   "execution_count": 82,
   "id": "1a81b4a9-e52c-4626-8b85-874d036054c8",
   "metadata": {},
   "outputs": [],
   "source": [
    "os.unlink(file_path)"
   ]
  },
  {
   "cell_type": "code",
   "execution_count": 70,
   "id": "421e712d-e2c1-4cbc-bf57-c75a59d11f35",
   "metadata": {},
   "outputs": [],
   "source": [
    "df = pd.DataFrame(columns=[ 'imagen', 'Radius', 'Cent_X', 'Cent_y'])"
   ]
  },
  {
   "cell_type": "code",
   "execution_count": 83,
   "id": "36c054ee-31ce-42fc-b429-d6ee65c0b53a",
   "metadata": {},
   "outputs": [
    {
     "name": "stdout",
     "output_type": "stream",
     "text": [
      "1/1 [==============================] - 0s 466ms/step\n",
      "Predicted radius:  139.49934   Predicted center_x:  845.5433  Predicted center_y:  606.04724\n"
     ]
    }
   ],
   "source": [
    "os.chdir(directory)\n",
    "import cv2\n",
    "import numpy as np\n",
    "from tensorflow import keras\n",
    "\n",
    "imagen=\"Mask_Circle_645_29.png\"\n",
    "# Load the image\n",
    "img = cv2.imread(imagen)\n",
    "\n",
    "input_shape = ( 1476, 1187,3)\n",
    "\n",
    "img = np.expand_dims(img, axis=0)\n",
    "\n",
    "model = model\n",
    "\n",
    "# Make the prediction\n",
    "prediction = model.predict(img)\n",
    "\n",
    "# Print the results\n",
    "print(\"Predicted radius: \", prediction[0][0],\"  Predicted center_x: \", prediction[0][1],\" Predicted center_y: \", prediction[0][2])\n"
   ]
  },
  {
   "cell_type": "code",
   "execution_count": 84,
   "id": "fe67bc02-ce4e-482c-82ef-ac85be8bcfd6",
   "metadata": {},
   "outputs": [],
   "source": [
    "df.loc[len(df)] = [imagen, prediction[0][0], prediction[0][1], prediction[0][2]]\n"
   ]
  },
  {
   "cell_type": "code",
   "execution_count": 85,
   "id": "8e90c399-8440-4d7a-b496-7df9909ba451",
   "metadata": {},
   "outputs": [],
   "source": [
    "df.to_csv('Predictions.csv')"
   ]
  },
  {
   "cell_type": "code",
   "execution_count": null,
   "id": "e4c94715-d515-4bfb-9483-5daa88ad4379",
   "metadata": {},
   "outputs": [],
   "source": []
  },
  {
   "cell_type": "code",
   "execution_count": null,
   "id": "1b637037-e994-4d6e-b87b-f8b989450b89",
   "metadata": {},
   "outputs": [],
   "source": []
  }
 ],
 "metadata": {
  "kernelspec": {
   "display_name": "Python 3 (ipykernel)",
   "language": "python",
   "name": "python3"
  },
  "language_info": {
   "codemirror_mode": {
    "name": "ipython",
    "version": 3
   },
   "file_extension": ".py",
   "mimetype": "text/x-python",
   "name": "python",
   "nbconvert_exporter": "python",
   "pygments_lexer": "ipython3",
   "version": "3.9.16"
  }
 },
 "nbformat": 4,
 "nbformat_minor": 5
}
